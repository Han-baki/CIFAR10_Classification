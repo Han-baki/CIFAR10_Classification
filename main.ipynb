{
 "cells": [
  {
   "cell_type": "code",
   "execution_count": 8,
   "metadata": {},
   "outputs": [
    {
     "name": "stdout",
     "output_type": "stream",
     "text": [
      "The autoreload extension is already loaded. To reload it, use:\n",
      "  %reload_ext autoreload\n"
     ]
    }
   ],
   "source": [
    "%load_ext autoreload\n",
    "%autoreload 2\n",
    "import tensorflow as tf\n",
    "import numpy as np\n",
    "from cifar10_utils import load_cifar10, mean_std_normalization_per_pixels, cifar10_compile, show_accuracy\n",
    "from BasicCNN_model import BasicCNN\n",
    "from ResNet_model import ResNet\n",
    "from GCNN_model import GResNet"
   ]
  },
  {
   "cell_type": "markdown",
   "metadata": {},
   "source": [
    "Get train, test datasets\n",
    "======"
   ]
  },
  {
   "cell_type": "code",
   "execution_count": 2,
   "metadata": {
    "scrolled": true
   },
   "outputs": [
    {
     "name": "stdout",
     "output_type": "stream",
     "text": [
      "image shape:  (6, 10000, 32, 32, 3)\n",
      "label shape:  (6, 10000)\n",
      "train shape:  (50000, 32, 32, 3)\n",
      "test shape:  (10000, 32, 32, 3)\n"
     ]
    }
   ],
   "source": [
    "image_datas, label_datas = load_cifar10(path = 'cifardata/cifar-10-batches-py/')\n",
    "\n",
    "train_datas = np.array(image_datas[:5]).reshape([-1,32,32,3])\n",
    "train_labels = np.array(label_datas[:5]).reshape([-1])\n",
    "test_datas = np.array(image_datas[5])\n",
    "test_labels = np.array(label_datas[5])\n",
    "\n",
    "print('train shape: ', train_datas.shape)\n",
    "print('test shape: ',test_datas.shape)\n",
    "\n",
    "train_datas, test_datas = mean_std_normalization_per_pixels(train_datas, test_datas, False)"
   ]
  },
  {
   "cell_type": "markdown",
   "metadata": {},
   "source": [
    "Model compile\n",
    "======"
   ]
  },
  {
   "cell_type": "markdown",
   "metadata": {},
   "source": [
    "1. BasicCNN"
   ]
  },
  {
   "cell_type": "code",
   "execution_count": 16,
   "metadata": {
    "scrolled": true
   },
   "outputs": [],
   "source": [
    "filter_num = 48\n",
    "number_n = 0\n",
    "weight_decay = 0.0005\n",
    "num_classes = 10\n",
    "batch_size = 100\n",
    "\n",
    "tf.reset_default_graph()\n",
    "\n",
    "sess = tf.Session()\n",
    "\n",
    "global_step = tf.Variable(0, trainable=False)\n",
    "lr = tf.train.exponential_decay(learning_rate = 1e-3,\n",
    "                                global_step = global_step,\n",
    "                                decay_steps = 1000,\n",
    "                                decay_rate= 0.96,\n",
    "                                staircase=True)\n",
    "\n",
    "# global_step = tf.Variable(0, trainable=False)\n",
    "# boundaries = [int(5000*num_classes/batch_size*30), int(5000*num_classes/batch_size*60), int(5000*num_classes/batch_size*90)]\n",
    "# values = [0.02, 0.004, 0.0008, 0.00016]\n",
    "# lr = tf.train.piecewise_constant(global_step, boundaries, values)\n",
    "\n",
    "model = BasicCNN(number_n = number_n, num_classes=num_classes,weight_decay = weight_decay,\n",
    "                 filter_num=filter_num, dropout = False, res_initializer = None)\n",
    "\n",
    "optimizer = tf.train.AdamOptimizer(lr).minimize(model.loss, global_step = global_step)\n",
    "# optimizer = tf.train.MomentumOptimizer(lr,momentum= 0.9).minimize(model.loss, global_step = global_step)\n",
    "\n",
    "model.train(optimizer = optimizer)\n",
    "sess.run(tf.global_variables_initializer())\n",
    "model_compile = cifar10_compile(model, sess, train_datas, train_labels,test_datas, test_labels, \n",
    "                                batch_size = batch_size)"
   ]
  },
  {
   "cell_type": "markdown",
   "metadata": {},
   "source": [
    "2. ResNet"
   ]
  },
  {
   "cell_type": "code",
   "execution_count": 4,
   "metadata": {},
   "outputs": [],
   "source": [
    "filter_num = 16\n",
    "number_n = 3\n",
    "weight_decay = 0.0005\n",
    "num_classes = 10\n",
    "batch_size = 100\n",
    "\n",
    "tf.reset_default_graph()\n",
    "\n",
    "sess = tf.Session()\n",
    "\n",
    "global_step = tf.Variable(0, trainable=False)\n",
    "lr = tf.train.exponential_decay(learning_rate = 1e-3,\n",
    "                                global_step = global_step,\n",
    "                                decay_steps = 1000,\n",
    "                                decay_rate= 0.96,\n",
    "                                staircase=True)\n",
    "\n",
    "# global_step = tf.Variable(0, trainable=False)\n",
    "# boundaries = [int(5000*num_classes/batch_size*60), int(5000*num_classes/batch_size*120), int(5000*num_classes/batch_size*160)]\n",
    "# values = [0.02, 0.004, 0.0008, 0.00016]\n",
    "# lr = tf.train.piecewise_constant(global_step, boundaries, values)\n",
    "\n",
    "model = ResNet(number_n = number_n, num_classes=num_classes,weight_decay = weight_decay,\n",
    "                 filter_num=filter_num, dropout = False)\n",
    "\n",
    "optimizer = tf.train.AdamOptimizer(lr).minimize(model.loss, global_step = global_step)\n",
    "# optimizer = tf.train.MomentumOptimizer(lr,momentum= 0.9).minimize(model.loss, global_step = global_step)\n",
    "\n",
    "model.train(optimizer = optimizer)\n",
    "sess.run(tf.global_variables_initializer())\n",
    "model_compile = cifar10_compile(model, sess, train_datas, train_labels,test_datas, test_labels, \n",
    "                                batch_size = batch_size)"
   ]
  },
  {
   "cell_type": "markdown",
   "metadata": {},
   "source": [
    "3. GCNN"
   ]
  },
  {
   "cell_type": "code",
   "execution_count": 9,
   "metadata": {
    "scrolled": true
   },
   "outputs": [
    {
     "name": "stdout",
     "output_type": "stream",
     "text": [
      "(3, 3, 3, 4)\n",
      "(3, 3, 32, 4)\n",
      "(3, 3, 32, 4)\n",
      "(3, 3, 32, 4)\n",
      "(3, 3, 32, 4)\n",
      "(3, 3, 32, 4)\n",
      "(3, 3, 32, 4)\n",
      "(3, 3, 32, 8)\n",
      "(3, 3, 64, 8)\n",
      "(3, 3, 64, 8)\n",
      "(3, 3, 64, 8)\n",
      "(3, 3, 64, 8)\n",
      "(3, 3, 64, 8)\n",
      "(3, 3, 64, 16)\n",
      "(3, 3, 128, 16)\n",
      "(3, 3, 128, 16)\n",
      "(3, 3, 128, 16)\n",
      "(3, 3, 128, 16)\n",
      "(3, 3, 128, 16)\n"
     ]
    }
   ],
   "source": [
    "# filters=[11, 23, 45]\n",
    "filters = [4,8,16]\n",
    "number_n = 3\n",
    "weight_decay = 0.0005\n",
    "num_classes = 10\n",
    "batch_size = 100\n",
    "\n",
    "tf.reset_default_graph()\n",
    "\n",
    "sess = tf.Session()\n",
    "\n",
    "global_step = tf.Variable(0, trainable=False)\n",
    "lr = tf.train.exponential_decay(learning_rate = 1e-3,\n",
    "                                global_step = global_step,\n",
    "                                decay_steps = 1000,\n",
    "                                decay_rate= 0.96,\n",
    "                                staircase=True)\n",
    "\n",
    "# global_step = tf.Variable(0, trainable=False)\n",
    "# boundaries = [int(5000*num_classes/batch_size*60), int(5000*num_classes/batch_size*120), int(5000*num_classes/batch_size*160)]\n",
    "# values = [0.02, 0.004, 0.0008, 0.00016]\n",
    "# lr = tf.train.piecewise_constant(global_step, boundaries, values)\n",
    "\n",
    "model = GResNet(number_n = number_n, num_classes=num_classes,weight_decay = weight_decay,\n",
    "                 filters=filters, dropout = False)\n",
    "\n",
    "optimizer = tf.train.AdamOptimizer(lr).minimize(model.loss, global_step = global_step)\n",
    "# optimizer = tf.train.MomentumOptimizer(lr,momentum= 0.9).minimize(model.loss, global_step = global_step)\n",
    "\n",
    "model.train(optimizer = optimizer)\n",
    "sess.run(tf.global_variables_initializer())\n",
    "model_compile = cifar10_compile(model, sess, train_datas, train_labels,test_datas, test_labels, \n",
    "                                batch_size = batch_size)"
   ]
  },
  {
   "cell_type": "markdown",
   "metadata": {},
   "source": [
    "Training Model\n",
    "======="
   ]
  },
  {
   "cell_type": "code",
   "execution_count": 10,
   "metadata": {
    "scrolled": true
   },
   "outputs": [
    {
     "name": "stdout",
     "output_type": "stream",
     "text": [
      "learning rate: 0.001\n"
     ]
    },
    {
     "data": {
      "application/vnd.jupyter.widget-view+json": {
       "model_id": "1658eb5bc03840998c579b18c0166234",
       "version_major": 2,
       "version_minor": 0
      },
      "text/plain": [
       "HBox(children=(IntProgress(value=0, max=500), HTML(value='')))"
      ]
     },
     "metadata": {},
     "output_type": "display_data"
    },
    {
     "ename": "KeyboardInterrupt",
     "evalue": "",
     "output_type": "error",
     "traceback": [
      "\u001b[1;31m---------------------------------------------------------------------------\u001b[0m",
      "\u001b[1;31mKeyboardInterrupt\u001b[0m                         Traceback (most recent call last)",
      "\u001b[1;32m<ipython-input-10-f668a2b361ef>\u001b[0m in \u001b[0;36m<module>\u001b[1;34m\u001b[0m\n\u001b[0;32m      7\u001b[0m model_compile = cifar10_compile(model, sess, train_datas, train_labels,test_datas, test_labels, \n\u001b[0;32m      8\u001b[0m                                 batch_size = batch_size)\n\u001b[1;32m----> 9\u001b[1;33m \u001b[0mmodel_compile\u001b[0m\u001b[1;33m.\u001b[0m\u001b[0mtrain\u001b[0m\u001b[1;33m(\u001b[0m\u001b[0mstart_epoch\u001b[0m\u001b[1;33m,\u001b[0m \u001b[0mend_epoch\u001b[0m\u001b[1;33m)\u001b[0m\u001b[1;33m\u001b[0m\u001b[0m\n\u001b[0m\u001b[0;32m     10\u001b[0m \u001b[1;33m\u001b[0m\u001b[0m\n\u001b[0;32m     11\u001b[0m \u001b[0mprint\u001b[0m\u001b[1;33m(\u001b[0m\u001b[1;34m'learning rate:'\u001b[0m\u001b[1;33m,\u001b[0m\u001b[0msess\u001b[0m\u001b[1;33m.\u001b[0m\u001b[0mrun\u001b[0m\u001b[1;33m(\u001b[0m\u001b[0mlr\u001b[0m\u001b[1;33m)\u001b[0m\u001b[1;33m)\u001b[0m\u001b[1;33m\u001b[0m\u001b[0m\n",
      "\u001b[1;32mC:\\Python\\cifar_project\\cifar-10\\CIFAR10_pyfile_code\\cifar10_utils.py\u001b[0m in \u001b[0;36mtrain\u001b[1;34m(self, start_epoch, end_epoch, print_test_accuracy, print_train_accuracy, data_augmentation)\u001b[0m\n\u001b[0;32m    152\u001b[0m \u001b[1;33m\u001b[0m\u001b[0m\n\u001b[0;32m    153\u001b[0m                 _, cost_val = sess.run([self.optimizer,self.loss], feed_dict = {model.input: model_input, \n\u001b[1;32m--> 154\u001b[1;33m                                                             model.labels: input_labels[idxs[i:i+self.batch_size]]})\n\u001b[0m\u001b[0;32m    155\u001b[0m \u001b[1;33m\u001b[0m\u001b[0m\n\u001b[0;32m    156\u001b[0m                 \u001b[0mtotal_cost\u001b[0m \u001b[1;33m+=\u001b[0m \u001b[0mcost_val\u001b[0m\u001b[1;33m/\u001b[0m\u001b[0mself\u001b[0m\u001b[1;33m.\u001b[0m\u001b[0mtotal_batch\u001b[0m\u001b[1;33m\u001b[0m\u001b[0m\n",
      "\u001b[1;32mc:\\users\\user\\appdata\\local\\programs\\python\\python36\\lib\\site-packages\\tensorflow\\python\\client\\session.py\u001b[0m in \u001b[0;36mrun\u001b[1;34m(self, fetches, feed_dict, options, run_metadata)\u001b[0m\n\u001b[0;32m    948\u001b[0m     \u001b[1;32mtry\u001b[0m\u001b[1;33m:\u001b[0m\u001b[1;33m\u001b[0m\u001b[0m\n\u001b[0;32m    949\u001b[0m       result = self._run(None, fetches, feed_dict, options_ptr,\n\u001b[1;32m--> 950\u001b[1;33m                          run_metadata_ptr)\n\u001b[0m\u001b[0;32m    951\u001b[0m       \u001b[1;32mif\u001b[0m \u001b[0mrun_metadata\u001b[0m\u001b[1;33m:\u001b[0m\u001b[1;33m\u001b[0m\u001b[0m\n\u001b[0;32m    952\u001b[0m         \u001b[0mproto_data\u001b[0m \u001b[1;33m=\u001b[0m \u001b[0mtf_session\u001b[0m\u001b[1;33m.\u001b[0m\u001b[0mTF_GetBuffer\u001b[0m\u001b[1;33m(\u001b[0m\u001b[0mrun_metadata_ptr\u001b[0m\u001b[1;33m)\u001b[0m\u001b[1;33m\u001b[0m\u001b[0m\n",
      "\u001b[1;32mc:\\users\\user\\appdata\\local\\programs\\python\\python36\\lib\\site-packages\\tensorflow\\python\\client\\session.py\u001b[0m in \u001b[0;36m_run\u001b[1;34m(self, handle, fetches, feed_dict, options, run_metadata)\u001b[0m\n\u001b[0;32m   1171\u001b[0m     \u001b[1;32mif\u001b[0m \u001b[0mfinal_fetches\u001b[0m \u001b[1;32mor\u001b[0m \u001b[0mfinal_targets\u001b[0m \u001b[1;32mor\u001b[0m \u001b[1;33m(\u001b[0m\u001b[0mhandle\u001b[0m \u001b[1;32mand\u001b[0m \u001b[0mfeed_dict_tensor\u001b[0m\u001b[1;33m)\u001b[0m\u001b[1;33m:\u001b[0m\u001b[1;33m\u001b[0m\u001b[0m\n\u001b[0;32m   1172\u001b[0m       results = self._do_run(handle, final_targets, final_fetches,\n\u001b[1;32m-> 1173\u001b[1;33m                              feed_dict_tensor, options, run_metadata)\n\u001b[0m\u001b[0;32m   1174\u001b[0m     \u001b[1;32melse\u001b[0m\u001b[1;33m:\u001b[0m\u001b[1;33m\u001b[0m\u001b[0m\n\u001b[0;32m   1175\u001b[0m       \u001b[0mresults\u001b[0m \u001b[1;33m=\u001b[0m \u001b[1;33m[\u001b[0m\u001b[1;33m]\u001b[0m\u001b[1;33m\u001b[0m\u001b[0m\n",
      "\u001b[1;32mc:\\users\\user\\appdata\\local\\programs\\python\\python36\\lib\\site-packages\\tensorflow\\python\\client\\session.py\u001b[0m in \u001b[0;36m_do_run\u001b[1;34m(self, handle, target_list, fetch_list, feed_dict, options, run_metadata)\u001b[0m\n\u001b[0;32m   1348\u001b[0m     \u001b[1;32mif\u001b[0m \u001b[0mhandle\u001b[0m \u001b[1;32mis\u001b[0m \u001b[1;32mNone\u001b[0m\u001b[1;33m:\u001b[0m\u001b[1;33m\u001b[0m\u001b[0m\n\u001b[0;32m   1349\u001b[0m       return self._do_call(_run_fn, feeds, fetches, targets, options,\n\u001b[1;32m-> 1350\u001b[1;33m                            run_metadata)\n\u001b[0m\u001b[0;32m   1351\u001b[0m     \u001b[1;32melse\u001b[0m\u001b[1;33m:\u001b[0m\u001b[1;33m\u001b[0m\u001b[0m\n\u001b[0;32m   1352\u001b[0m       \u001b[1;32mreturn\u001b[0m \u001b[0mself\u001b[0m\u001b[1;33m.\u001b[0m\u001b[0m_do_call\u001b[0m\u001b[1;33m(\u001b[0m\u001b[0m_prun_fn\u001b[0m\u001b[1;33m,\u001b[0m \u001b[0mhandle\u001b[0m\u001b[1;33m,\u001b[0m \u001b[0mfeeds\u001b[0m\u001b[1;33m,\u001b[0m \u001b[0mfetches\u001b[0m\u001b[1;33m)\u001b[0m\u001b[1;33m\u001b[0m\u001b[0m\n",
      "\u001b[1;32mc:\\users\\user\\appdata\\local\\programs\\python\\python36\\lib\\site-packages\\tensorflow\\python\\client\\session.py\u001b[0m in \u001b[0;36m_do_call\u001b[1;34m(self, fn, *args)\u001b[0m\n\u001b[0;32m   1354\u001b[0m   \u001b[1;32mdef\u001b[0m \u001b[0m_do_call\u001b[0m\u001b[1;33m(\u001b[0m\u001b[0mself\u001b[0m\u001b[1;33m,\u001b[0m \u001b[0mfn\u001b[0m\u001b[1;33m,\u001b[0m \u001b[1;33m*\u001b[0m\u001b[0margs\u001b[0m\u001b[1;33m)\u001b[0m\u001b[1;33m:\u001b[0m\u001b[1;33m\u001b[0m\u001b[0m\n\u001b[0;32m   1355\u001b[0m     \u001b[1;32mtry\u001b[0m\u001b[1;33m:\u001b[0m\u001b[1;33m\u001b[0m\u001b[0m\n\u001b[1;32m-> 1356\u001b[1;33m       \u001b[1;32mreturn\u001b[0m \u001b[0mfn\u001b[0m\u001b[1;33m(\u001b[0m\u001b[1;33m*\u001b[0m\u001b[0margs\u001b[0m\u001b[1;33m)\u001b[0m\u001b[1;33m\u001b[0m\u001b[0m\n\u001b[0m\u001b[0;32m   1357\u001b[0m     \u001b[1;32mexcept\u001b[0m \u001b[0merrors\u001b[0m\u001b[1;33m.\u001b[0m\u001b[0mOpError\u001b[0m \u001b[1;32mas\u001b[0m \u001b[0me\u001b[0m\u001b[1;33m:\u001b[0m\u001b[1;33m\u001b[0m\u001b[0m\n\u001b[0;32m   1358\u001b[0m       \u001b[0mmessage\u001b[0m \u001b[1;33m=\u001b[0m \u001b[0mcompat\u001b[0m\u001b[1;33m.\u001b[0m\u001b[0mas_text\u001b[0m\u001b[1;33m(\u001b[0m\u001b[0me\u001b[0m\u001b[1;33m.\u001b[0m\u001b[0mmessage\u001b[0m\u001b[1;33m)\u001b[0m\u001b[1;33m\u001b[0m\u001b[0m\n",
      "\u001b[1;32mc:\\users\\user\\appdata\\local\\programs\\python\\python36\\lib\\site-packages\\tensorflow\\python\\client\\session.py\u001b[0m in \u001b[0;36m_run_fn\u001b[1;34m(feed_dict, fetch_list, target_list, options, run_metadata)\u001b[0m\n\u001b[0;32m   1339\u001b[0m       \u001b[0mself\u001b[0m\u001b[1;33m.\u001b[0m\u001b[0m_extend_graph\u001b[0m\u001b[1;33m(\u001b[0m\u001b[1;33m)\u001b[0m\u001b[1;33m\u001b[0m\u001b[0m\n\u001b[0;32m   1340\u001b[0m       return self._call_tf_sessionrun(\n\u001b[1;32m-> 1341\u001b[1;33m           options, feed_dict, fetch_list, target_list, run_metadata)\n\u001b[0m\u001b[0;32m   1342\u001b[0m \u001b[1;33m\u001b[0m\u001b[0m\n\u001b[0;32m   1343\u001b[0m     \u001b[1;32mdef\u001b[0m \u001b[0m_prun_fn\u001b[0m\u001b[1;33m(\u001b[0m\u001b[0mhandle\u001b[0m\u001b[1;33m,\u001b[0m \u001b[0mfeed_dict\u001b[0m\u001b[1;33m,\u001b[0m \u001b[0mfetch_list\u001b[0m\u001b[1;33m)\u001b[0m\u001b[1;33m:\u001b[0m\u001b[1;33m\u001b[0m\u001b[0m\n",
      "\u001b[1;32mc:\\users\\user\\appdata\\local\\programs\\python\\python36\\lib\\site-packages\\tensorflow\\python\\client\\session.py\u001b[0m in \u001b[0;36m_call_tf_sessionrun\u001b[1;34m(self, options, feed_dict, fetch_list, target_list, run_metadata)\u001b[0m\n\u001b[0;32m   1427\u001b[0m     return tf_session.TF_SessionRun_wrapper(\n\u001b[0;32m   1428\u001b[0m         \u001b[0mself\u001b[0m\u001b[1;33m.\u001b[0m\u001b[0m_session\u001b[0m\u001b[1;33m,\u001b[0m \u001b[0moptions\u001b[0m\u001b[1;33m,\u001b[0m \u001b[0mfeed_dict\u001b[0m\u001b[1;33m,\u001b[0m \u001b[0mfetch_list\u001b[0m\u001b[1;33m,\u001b[0m \u001b[0mtarget_list\u001b[0m\u001b[1;33m,\u001b[0m\u001b[1;33m\u001b[0m\u001b[0m\n\u001b[1;32m-> 1429\u001b[1;33m         run_metadata)\n\u001b[0m\u001b[0;32m   1430\u001b[0m \u001b[1;33m\u001b[0m\u001b[0m\n\u001b[0;32m   1431\u001b[0m   \u001b[1;32mdef\u001b[0m \u001b[0m_call_tf_sessionprun\u001b[0m\u001b[1;33m(\u001b[0m\u001b[0mself\u001b[0m\u001b[1;33m,\u001b[0m \u001b[0mhandle\u001b[0m\u001b[1;33m,\u001b[0m \u001b[0mfeed_dict\u001b[0m\u001b[1;33m,\u001b[0m \u001b[0mfetch_list\u001b[0m\u001b[1;33m)\u001b[0m\u001b[1;33m:\u001b[0m\u001b[1;33m\u001b[0m\u001b[0m\n",
      "\u001b[1;31mKeyboardInterrupt\u001b[0m: "
     ]
    }
   ],
   "source": [
    "start_epoch = 0\n",
    "end_epoch = 3\n",
    "num_epochs = end_epoch-start_epoch\n",
    "\n",
    "print('first learning rate:',sess.run(lr))\n",
    "model_compile.train(start_epoch, end_epoch)\n",
    "print('last learning rate:',sess.run(lr))"
   ]
  },
  {
   "cell_type": "markdown",
   "metadata": {},
   "source": [
    "Saving model\n",
    "======="
   ]
  },
  {
   "cell_type": "code",
   "execution_count": null,
   "metadata": {},
   "outputs": [],
   "source": [
    "# import time\n",
    "# time_now = time.strftime('%Y_%m_%d_%H_%M', time.localtime(time.time()))\n",
    "# SAVER_DIR = 'model'\n",
    "# saver = tf.train.Saver()\n",
    "# checkpoint_path = os.path.join(SAVER_DIR, \"BasicCNN_{}\\BasicCNN_{}\".format(time_now, time_now))\n",
    "# saver.save(sess, checkpoint_path)"
   ]
  },
  {
   "cell_type": "markdown",
   "metadata": {},
   "source": [
    "Showing accuracy graph\n",
    "======"
   ]
  },
  {
   "cell_type": "code",
   "execution_count": 6,
   "metadata": {
    "scrolled": true
   },
   "outputs": [
    {
     "data": {
      "image/png": "[encoded data removed]",
      "text/plain": [
       "<Figure size 720x360 with 1 Axes>"
      ]
     },
     "metadata": {
      "needs_background": "light"
     },
     "output_type": "display_data"
    }
   ],
   "source": [
    "show_accuracy(num_epochs, model_compile.test_acc_list, model_compile.train_acc_list)"
   ]
  }
 ],
 "metadata": {
  "kernelspec": {
   "display_name": "Python 3",
   "language": "python",
   "name": "python3"
  },
  "language_info": {
   "codemirror_mode": {
    "name": "ipython",
    "version": 3
   },
   "file_extension": ".py",
   "mimetype": "text/x-python",
   "name": "python",
   "nbconvert_exporter": "python",
   "pygments_lexer": "ipython3",
   "version": "3.6.6"
  }
 },
 "nbformat": 4,
 "nbformat_minor": 2
}
